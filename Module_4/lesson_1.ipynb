{
 "cells": [
  {
   "cell_type": "code",
   "execution_count": 1,
   "metadata": {},
   "outputs": [],
   "source": [
    "from langchain_openai import ChatOpenAI\n",
    "from typing_extensions import TypedDict\n",
    "import operator\n",
    "from typing import Annotated\n",
    "from langchain_core.messages import HumanMessage, SystemMessage\n",
    "\n",
    "from langchain_community.document_loaders import WikipediaLoader\n",
    "from langchain_community.tools import TavilySearchResults\n",
    "from langchain_community.tools import DuckDuckGoSearchRun\n",
    "\n",
    "llm = ChatOpenAI(model=\"gpt-3.5-turbo-1106\", temperature=0) "
   ]
  },
  {
   "cell_type": "code",
   "execution_count": 10,
   "metadata": {},
   "outputs": [],
   "source": [
    "class State(TypedDict):\n",
    "    question: str\n",
    "    answer: str\n",
    "    context: Annotated[list, operator.add]"
   ]
  },
  {
   "cell_type": "code",
   "execution_count": 50,
   "metadata": {},
   "outputs": [],
   "source": [
    "def search_tavily(state):\n",
    "\n",
    "    tavily_search = TavilySearchResults(max_results=3)\n",
    "    search_docs = tavily_search.invoke(state['question'])\n",
    "    formatted_search_docs = \"\\n\\n---\\n\\n\".join(\n",
    "        [\n",
    "            f'<Document href=\"{doc[\"url\"]}\">\\n{doc[\"content\"]}\\n</Document>'\n",
    "            for doc in search_docs\n",
    "        ]\n",
    "    )\n",
    "    return {\"context\": [formatted_search_docs]}"
   ]
  },
  {
   "cell_type": "code",
   "execution_count": 37,
   "metadata": {},
   "outputs": [],
   "source": [
    "def search_wikipedia(state):\n",
    "    search_docs = WikipediaLoader(query=state['question'], load_max_docs=2).load()\n",
    "    formatted_search_docs = \"\\n\\n---\\n\\n\".join(\n",
    "        [\n",
    "            f'<Document source=\"{doc.metadata[\"source\"]}\" page=\"{doc.metadata.get(\"page\", \"\")}\">\\n{doc.page_content}\\n</Document>'\n",
    "            for doc in search_docs\n",
    "        ]\n",
    "    )\n",
    "\n",
    "    return {\"context\": [formatted_search_docs]} "
   ]
  },
  {
   "cell_type": "code",
   "execution_count": 51,
   "metadata": {},
   "outputs": [],
   "source": [
    "def search_duck_duck_go(state):\n",
    "    search = DuckDuckGoSearchRun()\n",
    "    search_docs = search.invoke(state['question'])    \n",
    "    return {\"context\": [search_docs]}"
   ]
  },
  {
   "cell_type": "code",
   "execution_count": 39,
   "metadata": {},
   "outputs": [],
   "source": [
    "def generate_answer(state):\n",
    "    context = state['context']\n",
    "    question = state['question']\n",
    "    # Template\n",
    "    answer_template = \"\"\"Answer the question {question} using this context: {context}\"\"\"\n",
    "    answer_instructions = answer_template.format(question=question, \n",
    "                                                       context=context)    \n",
    "    \n",
    "    # Answer\n",
    "    answer = llm.invoke([SystemMessage(content=answer_instructions)]+[HumanMessage(content=f\"Answer the question.\")])\n",
    "      \n",
    "    # Append it to state\n",
    "    return {\"answer\": answer}"
   ]
  },
  {
   "cell_type": "code",
   "execution_count": 52,
   "metadata": {},
   "outputs": [
    {
     "data": {
      "image/png": "[encoded data removed]",
      "text/plain": [
       "<IPython.core.display.Image object>"
      ]
     },
     "metadata": {},
     "output_type": "display_data"
    }
   ],
   "source": [
    "from IPython.display import Image, display\n",
    "\n",
    "from langgraph.graph import StateGraph, START, END\n",
    "\n",
    "# Add nodes\n",
    "builder = StateGraph(State)\n",
    "\n",
    "\n",
    "# Initialize each node with node_secret \n",
    "builder.add_node(\"search_tavily\",search_tavily)\n",
    "builder.add_node(\"search_duck_duck_go\",search_duck_duck_go)\n",
    "builder.add_node(\"search_wikipedia\", search_wikipedia)\n",
    "builder.add_node(\"generate_answer\", generate_answer)\n",
    "\n",
    "# Flow\n",
    "builder.add_edge(START, \"search_wikipedia\")\n",
    "builder.add_edge(START, \"search_tavily\")\n",
    "builder.add_edge(START, \"search_duck_duck_go\")\n",
    "builder.add_edge(\"search_wikipedia\", \"generate_answer\")\n",
    "builder.add_edge(\"search_duck_duck_go\", \"generate_answer\")\n",
    "builder.add_edge(\"search_tavily\", \"generate_answer\")\n",
    "\n",
    "builder.add_edge(\"generate_answer\", END)\n",
    "\n",
    "graph = builder.compile()\n",
    "\n",
    "display(Image(graph.get_graph().draw_mermaid_png()))"
   ]
  },
  {
   "cell_type": "code",
   "execution_count": null,
   "metadata": {},
   "outputs": [],
   "source": []
  },
  {
   "cell_type": "code",
   "execution_count": 56,
   "metadata": {},
   "outputs": [
    {
     "name": "stderr",
     "output_type": "stream",
     "text": [
      "/home/patrick/langgraph_study/venv/lib/python3.12/site-packages/langchain_community/utilities/duckduckgo_search.py:64: UserWarning: backend='api' is deprecated, using backend='auto'\n",
      "  ddgs_gen = ddgs.text(\n"
     ]
    },
    {
     "data": {
      "text/plain": [
       "{'question': \"Explain me what's a linear regression and add the formula\",\n",
       " 'answer': AIMessage(content='Linear regression is a statistical method used in various machine learning models to predict the value of unknown data using related data values. It is used to study the relationship between a dependent variable and an independent variable. The linear regression formula is represented as y = mx + b, where y is the dependent variable, x is the independent variable, m is the slope of the regression line, and b is the y-intercept. This formula helps in understanding and predicting how one variable affects the other. Linear regression is a powerful statistical tool with advantages such as ease of use and applicability to various computational systems.', additional_kwargs={'refusal': None}, response_metadata={'token_usage': {'completion_tokens': 120, 'prompt_tokens': 2702, 'total_tokens': 2822, 'completion_tokens_details': {'accepted_prediction_tokens': 0, 'audio_tokens': 0, 'reasoning_tokens': 0, 'rejected_prediction_tokens': 0}, 'prompt_tokens_details': {'audio_tokens': 0, 'cached_tokens': 0}}, 'model_name': 'gpt-3.5-turbo-1106', 'system_fingerprint': 'fp_2f141ce944', 'finish_reason': 'stop', 'logprobs': None}, id='run-cd581beb-e748-4543-93a9-1bf8cb301f89-0', usage_metadata={'input_tokens': 2702, 'output_tokens': 120, 'total_tokens': 2822, 'input_token_details': {'audio': 0, 'cache_read': 0}, 'output_token_details': {'audio': 0, 'reasoning': 0}}),\n",
       " 'context': [\"Linear regression is a statistical method that is used in various machine learning models to predict the value of unknown data using other related data values. Linear regression is used to study the relationship between a dependent variable and an independent variable. In this article, we will learn about, Linear Regression, Linear Regression Equation, Linear Equation Formulas, and others in ... Linear regression might sound like a complex term, but it's actually a very simple concept. Linear Regression is all about finding patterns in data. When two things are connected, (like - hours of study and test scores, OR temperature and ice cream sales) linear regression helps us understand and predict how one affects the other. Then, you build the linear regression formula by adding the terms together. These rules limit the form to just one type: Dependent variable = constant + parameter * IV + … + parameter * IV ... I always explain the difference between linear and non-linear regression with the following example: Y= a + d exp(x1) + c x2 + d x2^2 is linear, but Y ... linear regression, in statistics, a process for determining a line that best represents the general trend of a data set.. The simplest form of linear regression involves two variables: y being the dependent variable and x being the independent variable. The equation developed is of the form y = mx + b, where m is the slope of the regression line (or the regression coefficient), and b is where ... Linear regression is a powerful statistical tool, and you may find several advantages to using this method. Advantages. Some advantages you might find include the following: Ease of use: Linear regression is generally considered to be a straightforward and manageable algorithm that can be used on many types of computational systems.\",\n",
       "  [{'url': 'https://www.geeksforgeeks.org/linear-regression-formula/',\n",
       "    'content': 'Linear regression is a statistical method that is used in various machine learning models to predict the value of unknown data using other related data values. Linear regression is used to study the relationship between a dependent variable and an independent variable. In this article, we will learn about, Linear Regression, Linear Regression Equation, Linear Equation Formulas, and others in'},\n",
       "   {'url': 'https://www.britannica.com/topic/linear-regression',\n",
       "    'content': 'The values predicted by the estimated linear regression equation are the points on the line in the figure, and the actual blood pressure readings are represented by the points scattered about the line. It is often useful to create a graph of the collected data to see if there is a likely correlation within the data set before finding the equation of the regression line. = mx + b, where m is the slope of the regression line (or the regression coefficient), and b is where the line intersects the y-axis. A primary use of the estimated regression equation is to predict the value of the dependent variable when values for the independent variables are given. The difference between the observed value of y and the value of y predicted by the estimated regression equation is called a residual.'},\n",
       "   {'url': 'https://statisticsbyjim.com/regression/linear-regression/',\n",
       "    'content': 'Then, you build the linear regression formula by adding the terms together. These rules limit the form to just one type: Dependent variable = constant + parameter * IV + … + parameter * IV ... I always explain the difference between linear and non-linear regression with the following example: Y= a + d exp(x1) + c x2 + d x2^2 is linear, but Y'}],\n",
       "  '<Document source=\"https://en.wikipedia.org/wiki/Mediation_(statistics)\" page=\"\">\\nIn statistics, a mediation model seeks to identify and explain the mechanism or process that underlies an observed relationship between an independent variable and a dependent variable via the inclusion of a third hypothetical variable, known as a mediator variable (also a mediating variable, intermediary variable, or intervening variable). Rather than a direct causal relationship between the independent variable and the dependent variable, a mediation model proposes that the independent variable influences the mediator variable, which in turn influences the dependent variable. Thus, the mediator variable serves to clarify the nature of the causal relationship between the independent and dependent variables.\\nMediation analyses are employed to understand a known relationship by exploring the underlying mechanism or process by which one variable influences another variable through a mediator variable. In particular, mediation analysis can contribute to better understanding the relationship between an independent variable and a dependent variable when these variables do not have an obvious direct connection.\\n\\n\\n== Baron and Kenny\\'s (1986) steps for mediation analysis ==\\nBaron and Kenny (1986) laid out several requirements that must be met to form a true mediation relationship. They are outlined below using a real-world example. See the diagram above for a visual representation of the overall mediating relationship to be explained. The original steps are as follows.\\n\\n\\n=== Step 1 ===\\nRelationship Duration \\n\\nRegress the dependent variable on the independent variable to confirm that the independent variable is a significant predictor of the dependent variable.\\nIndependent variable \\n  \\n    \\n      \\n        →\\n      \\n    \\n    {\\\\displaystyle \\\\to }\\n  \\n dependent variable\\n\\n  \\n    \\n      \\n        Y\\n        =\\n        \\n          β\\n          \\n            10\\n          \\n        \\n        +\\n        \\n          β\\n          \\n            11\\n          \\n        \\n        X\\n        +\\n        \\n          ε\\n          \\n            1\\n          \\n        \\n      \\n    \\n    {\\\\displaystyle Y=\\\\beta _{10}+\\\\beta _{11}X+\\\\varepsilon _{1}}\\n  \\n\\nβ11 is significant\\n\\n\\n=== Step 2 ===\\nRegress the mediator on the independent variable to confirm that the independent variable is a significant predictor of the mediator. If the mediator is not associated with the independent variable, then it couldn’t possibly mediate anything.\\nIndependent variable \\n  \\n    \\n      \\n        →\\n      \\n    \\n    {\\\\displaystyle \\\\to }\\n  \\n mediator\\n\\n  \\n    \\n      \\n        M\\n        e\\n        =\\n        \\n          β\\n          \\n            20\\n          \\n        \\n        +\\n        \\n          β\\n          \\n            21\\n          \\n        \\n        X\\n        +\\n        \\n          ε\\n          \\n            2\\n          \\n        \\n      \\n    \\n    {\\\\displaystyle Me=\\\\beta _{20}+\\\\beta _{21}X+\\\\varepsilon _{2}}\\n  \\n\\nβ21 is significant\\n\\n\\n=== Step 3 ===\\nRegress the dependent variable on both the mediator and independent variable to confirm that a) the mediator is a significant predictor of the dependent variable, and b) the strength of the coefficient of the previously significant independent variable in Step #1 is now greatly reduced, if not rendered nonsignificant.\\n\\n  \\n    \\n      \\n        Y\\n        =\\n        \\n          β\\n          \\n            30\\n          \\n        \\n        +\\n        \\n          β\\n          \\n            31\\n          \\n        \\n        X\\n        +\\n        \\n          β\\n          \\n            32\\n          \\n        \\n        M\\n        e\\n        +\\n        \\n          ε\\n          \\n            3\\n          \\n        \\n      \\n    \\n    {\\\\displaystyle Y=\\\\beta _{30}+\\\\beta _{31}X+\\\\beta _{32}Me+\\\\varepsilon _{3}}\\n  \\n\\nβ32 is significant\\nβ31 should be smaller in absolute value than the original effect for the independent variable (β11 above)\\n\\n\\n=== Example ===\\nThe following example, drawn from Howell (2009), explains each step of Baron and Kenny\\'s requirements to understand further how a mediation effect is characterized. Step 1 and s\\n</Document>\\n\\n---\\n\\n<Document source=\"https://en.wikipedia.org/wiki/Diffusion_model\" page=\"\">\\nIn machine learning, diffusion models, also known as diffusion probabilistic models or score-based generative models, are a class of latent variable generative models. A diffusion model consists of three major components: the forward process, the reverse process, and the sampling procedure. The goal of diffusion models is to learn a diffusion process for a given dataset, such that the process can generate new elements that are distributed similarly as the original dataset. A diffusion model models data as generated by a diffusion process, whereby a new datum performs a random walk with drift through the space of all possible data. A trained diffusion model can be sampled in many ways, with different efficiency and quality.\\nThere are various equivalent formalisms, including Markov chains, denoising diffusion probabilistic models, noise conditioned score networks, and stochastic differential equations. They are typically trained using variational inference. The model responsible for denoising is typically called its \"backbone\". The backbone may be of any kind, but they are typically U-nets or transformers.\\nAs of 2024, diffusion models are mainly used for computer vision tasks, including image denoising, inpainting, super-resolution, image generation, and video generation. These typically involve training a neural network to sequentially denoise images blurred with Gaussian noise. The model is trained to reverse the process of adding noise to an image. After training to convergence, it can be used for image generation by starting with an image composed of random noise, and applying the network iteratively to denoise the image.\\nDiffusion-based image generators have seen widespread commercial interest, such as Stable Diffusion and DALL-E. These models typically combine diffusion models with other models, such as text-encoders and cross-attention modules to allow text-conditioned generation.\\nOther than computer vision, diffusion models have also found applications in natural language processing such as text generation and summarization, sound generation, and reinforcement learning.\\n\\n\\n== Denoising diffusion model ==\\n\\n\\n=== Non-equilibrium thermodynamics ===\\nDiffusion models were introduced in 2015 as a method to learn a model that can sample from a highly complex probability distribution. They used techniques from non-equilibrium thermodynamics, especially diffusion.\\nConsider, for example, how one might model the distribution of all naturally-occurring photos. Each image is a point in the space of all images, and the distribution of naturally-occurring photos is a \"cloud\" in space, which, by repeatedly adding noise to the images, diffuses out to the rest of the image space, until the cloud becomes all but indistinguishable from a Gaussian distribution \\n  \\n    \\n      \\n        N\\n        (\\n        0\\n        ,\\n        I\\n        )\\n      \\n    \\n    {\\\\displaystyle N(0,I)}\\n  \\n. A model that can approximately undo the diffusion can then be used to sample from the original distribution. This is studied in \"non-equilibrium\" thermodynamics, as the starting distribution is not in equilibrium, unlike the final distribution.\\nThe equilibrium distribution is the Gaussian distribution \\n  \\n    \\n      \\n        N\\n        (\\n        0\\n        ,\\n        I\\n        )\\n      \\n    \\n    {\\\\displaystyle N(0,I)}\\n  \\n, with pdf \\n  \\n    \\n      \\n        ρ\\n        (\\n        x\\n        )\\n        ∝\\n        \\n          e\\n          \\n            −\\n            \\n              \\n                1\\n                2\\n              \\n            \\n            ‖\\n            x\\n            \\n              ‖\\n              \\n                2\\n              \\n            \\n          \\n        \\n      \\n    \\n    {\\\\displaystyle \\\\rho (x)\\\\propto e^{-{\\\\frac {1}{2}}\\\\|x\\\\|^{2}}}\\n  \\n. This is just the Maxwell–Boltzmann distribution of particles in a potential well \\n  \\n    \\n      \\n        V\\n        (\\n        x\\n        )\\n        =\\n        \\n          \\n            1\\n            2\\n          \\n        \\n        ‖\\n     \\n</Document>']}"
      ]
     },
     "execution_count": 56,
     "metadata": {},
     "output_type": "execute_result"
    }
   ],
   "source": [
    "graph.invoke({\"question\":\"Explain me what's a linear regression and add the formula\"})"
   ]
  },
  {
   "cell_type": "code",
   "execution_count": 57,
   "metadata": {},
   "outputs": [
    {
     "name": "stderr",
     "output_type": "stream",
     "text": [
      "/home/patrick/langgraph_study/venv/lib/python3.12/site-packages/langchain_community/utilities/duckduckgo_search.py:64: UserWarning: backend='api' is deprecated, using backend='auto'\n",
      "  ddgs_gen = ddgs.text(\n"
     ]
    },
    {
     "data": {
      "text/plain": [
       "'Linear regression is a statistical method used to determine the relationship between two variables: the dependent variable (y) and the independent variable (x). The formula for linear regression is y = mx + b, where y is the dependent variable, x is the independent variable, m is the slope of the regression line (or the regression coefficient), and b is the y-intercept. This equation allows you to predict the mean value of the dependent variable given the values of the independent variables that you specify. Linear regression finds the constant and coefficient values for the independent variables for a line that best fits your sample data. It simplifies understanding the relationship between variables by finding patterns in data, allowing predictions based on the influence of one variable on another. Linear regression is widely used in various industries such as medicine, sports, environmental science, and finance. It is a valuable statistical technique for professionals to make predictions and understand the influence of variables on each other.'"
      ]
     },
     "execution_count": 57,
     "metadata": {},
     "output_type": "execute_result"
    }
   ],
   "source": [
    "graph.invoke({\"question\":\"Explain me what's a linear regression and include the formula\"})['answer'].content"
   ]
  }
 ],
 "metadata": {
  "kernelspec": {
   "display_name": "venv",
   "language": "python",
   "name": "python3"
  },
  "language_info": {
   "codemirror_mode": {
    "name": "ipython",
    "version": 3
   },
   "file_extension": ".py",
   "mimetype": "text/x-python",
   "name": "python",
   "nbconvert_exporter": "python",
   "pygments_lexer": "ipython3",
   "version": "3.12.3"
  }
 },
 "nbformat": 4,
 "nbformat_minor": 2
}
